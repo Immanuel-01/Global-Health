{
  "nbformat": 4,
  "nbformat_minor": 0,
  "metadata": {
    "colab": {
      "provenance": [],
      "machine_shape": "hm",
      "gpuType": "A100",
      "authorship_tag": "ABX9TyONPC1gxFKdi9KG/aHGTWjZ",
      "include_colab_link": true
    },
    "kernelspec": {
      "name": "python3",
      "display_name": "Python 3"
    },
    "language_info": {
      "name": "python"
    },
    "accelerator": "GPU"
  },
  "cells": [
    {
      "cell_type": "markdown",
      "metadata": {
        "id": "view-in-github",
        "colab_type": "text"
      },
      "source": [
        "<a href=\"https://colab.research.google.com/github/Immanuel-01/Global-Health/blob/main/Global_Health.ipynb\" target=\"_parent\"><img src=\"https://colab.research.google.com/assets/colab-badge.svg\" alt=\"Open In Colab\"/></a>"
      ]
    },
    {
      "cell_type": "code",
      "execution_count": 1,
      "metadata": {
        "colab": {
          "base_uri": "https://localhost:8080/"
        },
        "id": "YxXeNxs2ZTWF",
        "outputId": "e39c839f-eafe-4d2b-f6ec-593b5934a0bf"
      },
      "outputs": [
        {
          "output_type": "stream",
          "name": "stdout",
          "text": [
            "Total rows in the dataset: 312074\n"
          ]
        }
      ],
      "source": [
        "import pandas as pd\n",
        "\n",
        "# Load the dataset\n",
        "\n",
        "gbh = pd.read_csv(\"Global Health Statistics.csv\")\n",
        "\n",
        "# Check the number of rows in the dataset\n",
        "print(f\"Total rows in the dataset: {len(gbh)}\")"
      ]
    },
    {
      "cell_type": "code",
      "source": [
        "# Select a random subset of 300 rows\n",
        "gbh_subset = gbh.sample(n=300, random_state=42) # random_state ensures reproducibility\n",
        "\n",
        "# Check the number of rows in the subset\n",
        "print(f\"Number of rows in the subset: {len(gbh_subset)}\")"
      ],
      "metadata": {
        "colab": {
          "base_uri": "https://localhost:8080/"
        },
        "id": "aD_cyG_Yec0A",
        "outputId": "8463c5cf-ea0e-4e0a-e2e4-3b199bac3419"
      },
      "execution_count": 2,
      "outputs": [
        {
          "output_type": "stream",
          "name": "stdout",
          "text": [
            "Number of rows in the subset: 300\n"
          ]
        }
      ]
    },
    {
      "cell_type": "code",
      "source": [
        "# Display the first few rows of the dataset\n",
        "\n",
        "print(gbh_subset.head())"
      ],
      "metadata": {
        "colab": {
          "base_uri": "https://localhost:8080/"
        },
        "id": "iCesPiaEadq2",
        "outputId": "b8f77b00-36ea-42e9-c52f-9e4091676105"
      },
      "execution_count": 3,
      "outputs": [
        {
          "output_type": "stream",
          "name": "stdout",
          "text": [
            "             Country  Year         Disease Name Disease Category  \\\n",
            "241165  Saudi Arabia  2021             COVID-19       Autoimmune   \n",
            "63979         Canada  2003                Polio            Viral   \n",
            "121325        Canada  2023               Rabies       Autoimmune   \n",
            "13715         France  2021  Parkinson's Disease        Parasitic   \n",
            "290776   South Korea  2000               Asthma          Genetic   \n",
            "\n",
            "        Prevalence Rate (%)  Incidence Rate (%)  Mortality Rate (%) Age Group  \\\n",
            "241165                 1.20               12.65                0.22      0-18   \n",
            "63979                 17.53                5.04                8.09     36-60   \n",
            "121325                 2.37               14.06                4.56     19-35   \n",
            "13715                 16.91                3.98                3.15      0-18   \n",
            "290776                 4.82               13.60                7.81       61+   \n",
            "\n",
            "        Gender  Population Affected  ...  Hospital Beds per 1000  \\\n",
            "241165  Female               597705  ...                    6.88   \n",
            "63979    Other                 9561  ...                    8.57   \n",
            "121325   Other               397451  ...                    4.48   \n",
            "13715    Other               223367  ...                    2.14   \n",
            "290776  Female               802796  ...                    1.14   \n",
            "\n",
            "        Treatment Type  Average Treatment Cost (USD)  \\\n",
            "241165     Vaccination                       23797.0   \n",
            "63979          Therapy                       18486.0   \n",
            "121325      Medication                       16898.0   \n",
            "13715       Medication                       38225.0   \n",
            "290776         Surgery                       22851.0   \n",
            "\n",
            "       Availability of Vaccines/Treatment  Recovery Rate (%)   DALYs  \\\n",
            "241165                                Yes              88.84  1011.0   \n",
            "63979                                 Yes              65.18   612.0   \n",
            "121325                                Yes              84.14   559.0   \n",
            "13715                                 Yes              95.06  1241.0   \n",
            "290776                                Yes              58.89  3865.0   \n",
            "\n",
            "        Improvement in 5 Years (%)  Per Capita Income (USD)  Education Index  \\\n",
            "241165                        1.21                  70839.0             0.43   \n",
            "63979                         2.82                  78469.0             0.79   \n",
            "121325                        6.82                  83313.0             0.87   \n",
            "13715                         4.70                  45685.0             0.72   \n",
            "290776                        3.67                  89879.0             0.86   \n",
            "\n",
            "        Urbanization Rate (%)  \n",
            "241165                  37.73  \n",
            "63979                   73.06  \n",
            "121325                  30.21  \n",
            "13715                   38.49  \n",
            "290776                  79.16  \n",
            "\n",
            "[5 rows x 22 columns]\n"
          ]
        }
      ]
    },
    {
      "cell_type": "code",
      "source": [
        "print(gbh_subset.info())   # Get basic information about the dataset"
      ],
      "metadata": {
        "colab": {
          "base_uri": "https://localhost:8080/"
        },
        "id": "69RGgUsjavHJ",
        "outputId": "de977d4a-ea6b-4835-d219-0e132c2894e0"
      },
      "execution_count": 4,
      "outputs": [
        {
          "output_type": "stream",
          "name": "stdout",
          "text": [
            "<class 'pandas.core.frame.DataFrame'>\n",
            "Index: 300 entries, 241165 to 239556\n",
            "Data columns (total 22 columns):\n",
            " #   Column                              Non-Null Count  Dtype  \n",
            "---  ------                              --------------  -----  \n",
            " 0   Country                             300 non-null    object \n",
            " 1   Year                                300 non-null    int64  \n",
            " 2   Disease Name                        300 non-null    object \n",
            " 3   Disease Category                    300 non-null    object \n",
            " 4   Prevalence Rate (%)                 300 non-null    float64\n",
            " 5   Incidence Rate (%)                  300 non-null    float64\n",
            " 6   Mortality Rate (%)                  300 non-null    float64\n",
            " 7   Age Group                           300 non-null    object \n",
            " 8   Gender                              300 non-null    object \n",
            " 9   Population Affected                 300 non-null    int64  \n",
            " 10  Healthcare Access (%)               300 non-null    float64\n",
            " 11  Doctors per 1000                    300 non-null    float64\n",
            " 12  Hospital Beds per 1000              300 non-null    float64\n",
            " 13  Treatment Type                      300 non-null    object \n",
            " 14  Average Treatment Cost (USD)        300 non-null    float64\n",
            " 15  Availability of Vaccines/Treatment  300 non-null    object \n",
            " 16  Recovery Rate (%)                   300 non-null    float64\n",
            " 17  DALYs                               300 non-null    float64\n",
            " 18  Improvement in 5 Years (%)          300 non-null    float64\n",
            " 19  Per Capita Income (USD)             300 non-null    float64\n",
            " 20  Education Index                     300 non-null    float64\n",
            " 21  Urbanization Rate (%)               300 non-null    float64\n",
            "dtypes: float64(13), int64(2), object(7)\n",
            "memory usage: 53.9+ KB\n",
            "None\n"
          ]
        }
      ]
    },
    {
      "cell_type": "code",
      "source": [
        "print(gbh_subset.describe())  # Summary statistics for numerical columns"
      ],
      "metadata": {
        "colab": {
          "base_uri": "https://localhost:8080/"
        },
        "id": "ImXK2bWna04_",
        "outputId": "b045263f-3bce-47fe-e6d3-3ef72f148489"
      },
      "execution_count": 5,
      "outputs": [
        {
          "output_type": "stream",
          "name": "stdout",
          "text": [
            "              Year  Prevalence Rate (%)  Incidence Rate (%)  \\\n",
            "count   300.000000           300.000000          300.000000   \n",
            "mean   2012.663333             9.788033            7.576433   \n",
            "std       6.791446             5.765088            4.285299   \n",
            "min    2000.000000             0.120000            0.100000   \n",
            "25%    2007.000000             4.850000            3.777500   \n",
            "50%    2013.000000             9.625000            7.550000   \n",
            "75%    2018.000000            15.092500           11.007500   \n",
            "max    2024.000000            19.980000           14.980000   \n",
            "\n",
            "       Mortality Rate (%)  Population Affected  Healthcare Access (%)  \\\n",
            "count          300.000000           300.000000             300.000000   \n",
            "mean             5.074833        492616.176667              73.022600   \n",
            "std              2.937288        280547.207790              14.291189   \n",
            "min              0.110000          1006.000000              50.480000   \n",
            "25%              2.557500        255550.250000              60.100000   \n",
            "50%              5.135000        512426.500000              71.900000   \n",
            "75%              7.775000        733165.500000              85.585000   \n",
            "max              9.970000        997476.000000              99.790000   \n",
            "\n",
            "       Doctors per 1000  Hospital Beds per 1000  Average Treatment Cost (USD)  \\\n",
            "count        300.000000              300.000000                    300.000000   \n",
            "mean           2.747133                5.590167                  24508.656667   \n",
            "std            1.297144                2.664704                  14559.054481   \n",
            "min            0.500000                0.600000                    310.000000   \n",
            "25%            1.640000                3.362500                  12215.750000   \n",
            "50%            2.800000                5.790000                  23061.000000   \n",
            "75%            3.915000                7.900000                  37263.000000   \n",
            "max            4.940000                9.910000                  49603.000000   \n",
            "\n",
            "       Recovery Rate (%)        DALYs  Improvement in 5 Years (%)  \\\n",
            "count         300.000000   300.000000                  300.000000   \n",
            "mean           74.970933  2430.323333                    5.033800   \n",
            "std            14.211489  1481.711177                    2.877344   \n",
            "min            50.020000     6.000000                    0.010000   \n",
            "25%            62.705000  1131.750000                    2.747500   \n",
            "50%            74.610000  2307.000000                    4.925000   \n",
            "75%            87.485000  3808.500000                    7.502500   \n",
            "max            98.890000  4994.000000                    9.950000   \n",
            "\n",
            "       Per Capita Income (USD)  Education Index  Urbanization Rate (%)  \n",
            "count               300.000000       300.000000             300.000000  \n",
            "mean              50332.276667         0.647933              54.059100  \n",
            "std               28602.557802         0.149018              20.282683  \n",
            "min                 840.000000         0.400000              20.020000  \n",
            "25%               25739.000000         0.520000              36.877500  \n",
            "50%               48172.500000         0.635000              53.880000  \n",
            "75%               74064.750000         0.772500              71.535000  \n",
            "max               99878.000000         0.900000              89.720000  \n"
          ]
        }
      ]
    },
    {
      "cell_type": "code",
      "source": [
        "# Check for missing values\n",
        "\n",
        "print(gbh_subset.isnull().sum())"
      ],
      "metadata": {
        "colab": {
          "base_uri": "https://localhost:8080/"
        },
        "id": "MSd-Eo27bA8F",
        "outputId": "2e19a41d-5ab0-4539-b8fe-582102d56631"
      },
      "execution_count": 6,
      "outputs": [
        {
          "output_type": "stream",
          "name": "stdout",
          "text": [
            "Country                               0\n",
            "Year                                  0\n",
            "Disease Name                          0\n",
            "Disease Category                      0\n",
            "Prevalence Rate (%)                   0\n",
            "Incidence Rate (%)                    0\n",
            "Mortality Rate (%)                    0\n",
            "Age Group                             0\n",
            "Gender                                0\n",
            "Population Affected                   0\n",
            "Healthcare Access (%)                 0\n",
            "Doctors per 1000                      0\n",
            "Hospital Beds per 1000                0\n",
            "Treatment Type                        0\n",
            "Average Treatment Cost (USD)          0\n",
            "Availability of Vaccines/Treatment    0\n",
            "Recovery Rate (%)                     0\n",
            "DALYs                                 0\n",
            "Improvement in 5 Years (%)            0\n",
            "Per Capita Income (USD)               0\n",
            "Education Index                       0\n",
            "Urbanization Rate (%)                 0\n",
            "dtype: int64\n"
          ]
        }
      ]
    },
    {
      "cell_type": "code",
      "source": [
        "# save it to a CSV file\n",
        "gbh_subset.to_csv(\"gbh_subset_300.csv\", index=False)"
      ],
      "metadata": {
        "id": "E47ivL2Fe_eB"
      },
      "execution_count": 7,
      "outputs": []
    },
    {
      "cell_type": "code",
      "source": [
        "# Check for duplicates\n",
        "print(gbh_subset.duplicated().sum())"
      ],
      "metadata": {
        "colab": {
          "base_uri": "https://localhost:8080/"
        },
        "id": "AjBlNYslf390",
        "outputId": "5a5a059e-8cb7-4075-aeea-5ba55edadeef"
      },
      "execution_count": 8,
      "outputs": [
        {
          "output_type": "stream",
          "name": "stdout",
          "text": [
            "0\n"
          ]
        }
      ]
    },
    {
      "cell_type": "code",
      "source": [
        "import matplotlib.pyplot as plt\n",
        "import seaborn as sns"
      ],
      "metadata": {
        "id": "f9rqxnA_f-Wo"
      },
      "execution_count": 9,
      "outputs": []
    },
    {
      "cell_type": "code",
      "source": [
        "diseases_counts = gbh_subset['Disease Name'].value_counts()  # Count the occurrences of each disease\n",
        "\n",
        "# Plot the distribution of diseases\n",
        "plt.figure(figsize=(10, 6))\n",
        "sns.barplot(x=diseases_counts.index, y=diseases_counts.values, palette=\"viridis\")\n",
        "plt.title(\"Distribution of Diseases\")\n",
        "plt.xlabel(\"Disease\")\n",
        "plt.ylabel(\"Count\")\n",
        "plt.xticks(rotation=45)\n",
        "plt.show()"
      ],
      "metadata": {
        "colab": {
          "base_uri": "https://localhost:8080/",
          "height": 750
        },
        "id": "ng3ws4SegFQm",
        "outputId": "b491b83f-ce71-4630-bb61-b82769e0fd05"
      },
      "execution_count": 10,
      "outputs": [
        {
          "output_type": "stream",
          "name": "stderr",
          "text": [
            "<ipython-input-10-461c191cc313>:5: FutureWarning: \n",
            "\n",
            "Passing `palette` without assigning `hue` is deprecated and will be removed in v0.14.0. Assign the `x` variable to `hue` and set `legend=False` for the same effect.\n",
            "\n",
            "  sns.barplot(x=diseases_counts.index, y=diseases_counts.values, palette=\"viridis\")\n"
          ]
        },
        {
          "output_type": "display_data",
          "data": {
            "text/plain": [
              "<Figure size 1000x600 with 1 Axes>"
            ],
            "image/png": "[encoded data removed]"
          },
          "metadata": {}
        }
      ]
    },
    {
      "cell_type": "code",
      "source": [
        "# Group by country and disease\n",
        "\n",
        "country_diseases = gbh_subset.groupby(['Disease Name','Country']).size().unstack()\n",
        "\n",
        "# Plot the heatmap\n",
        "plt.figure(figsize=(12, 8))\n",
        "sns.heatmap(country_diseases, cmap=\"YlGnBu\", annot=True, fmt=\"g\")\n",
        "plt.title(\"Disease Prevalence by Country\")\n",
        "plt.xlabel(\"Disease\")\n",
        "plt.ylabel(\"Country\")\n",
        "plt.show()"
      ],
      "metadata": {
        "colab": {
          "base_uri": "https://localhost:8080/",
          "height": 793
        },
        "id": "6mqerreYgnOu",
        "outputId": "a217c049-8fcd-4c09-c939-3c0a2ee59099"
      },
      "execution_count": 11,
      "outputs": [
        {
          "output_type": "display_data",
          "data": {
            "text/plain": [
              "<Figure size 1200x800 with 2 Axes>"
            ],
            "image/png": "[encoded data removed]"
          },
          "metadata": {}
        }
      ]
    },
    {
      "cell_type": "code",
      "source": [
        "print(gbh_subset.columns)\n"
      ],
      "metadata": {
        "colab": {
          "base_uri": "https://localhost:8080/"
        },
        "id": "KrwnMDnFYpak",
        "outputId": "5e6d17bc-5bd1-4b91-ec9e-5f36a82fe55f"
      },
      "execution_count": 12,
      "outputs": [
        {
          "output_type": "stream",
          "name": "stdout",
          "text": [
            "Index(['Country', 'Year', 'Disease Name', 'Disease Category',\n",
            "       'Prevalence Rate (%)', 'Incidence Rate (%)', 'Mortality Rate (%)',\n",
            "       'Age Group', 'Gender', 'Population Affected', 'Healthcare Access (%)',\n",
            "       'Doctors per 1000', 'Hospital Beds per 1000', 'Treatment Type',\n",
            "       'Average Treatment Cost (USD)', 'Availability of Vaccines/Treatment',\n",
            "       'Recovery Rate (%)', 'DALYs', 'Improvement in 5 Years (%)',\n",
            "       'Per Capita Income (USD)', 'Education Index', 'Urbanization Rate (%)'],\n",
            "      dtype='object')\n"
          ]
        }
      ]
    },
    {
      "cell_type": "code",
      "source": [
        "# Rename columns based on the exact column names\n",
        "gbh_subset.rename(columns={\n",
        "    'Healthcare Access (%)': 'Healthcare Access',\n",
        "    'Population Affected': 'Population Affected',\n",
        "    'Availability of Vaccines/Treatment': 'Vaccine Availability',\n",
        "    'Treatment Type': 'Treatment Type',\n",
        "    'Doctors per 1000': 'Doctors per 1000 People',\n",
        "    'Hospital Beds per 1000': 'Hospital Beds per 1000 People',\n",
        "    'Average Treatment Cost (USD)': 'Avg Treatment Cost (USD)',\n",
        "    'Recovery Rate (%)': 'Recovery Rate',\n",
        "    'DALYs': 'Disability-Adjusted Life Years (DALYs)',\n",
        "    'Improvement in 5 Years (%)': '5 Year Improvement (%)',\n",
        "    'Per Capita Income (USD)': 'Per Capita Income',\n",
        "    'Education Index': 'Education Index',\n",
        "    'Urbanization Rate (%)': 'Urbanization Rate',\n",
        "}, inplace=True)\n",
        "\n",
        "# Check the renamed columns\n",
        "print(gbh_subset.columns)\n"
      ],
      "metadata": {
        "colab": {
          "base_uri": "https://localhost:8080/"
        },
        "id": "4GGXiGA6ZSex",
        "outputId": "4b460ac9-4129-44fd-fb7b-21542db3b91f"
      },
      "execution_count": 13,
      "outputs": [
        {
          "output_type": "stream",
          "name": "stdout",
          "text": [
            "Index(['Country', 'Year', 'Disease Name', 'Disease Category',\n",
            "       'Prevalence Rate (%)', 'Incidence Rate (%)', 'Mortality Rate (%)',\n",
            "       'Age Group', 'Gender', 'Population Affected', 'Healthcare Access',\n",
            "       'Doctors per 1000 People', 'Hospital Beds per 1000 People',\n",
            "       'Treatment Type', 'Avg Treatment Cost (USD)', 'Vaccine Availability',\n",
            "       'Recovery Rate', 'Disability-Adjusted Life Years (DALYs)',\n",
            "       '5 Year Improvement (%)', 'Per Capita Income', 'Education Index',\n",
            "       'Urbanization Rate'],\n",
            "      dtype='object')\n"
          ]
        }
      ]
    },
    {
      "cell_type": "code",
      "source": [
        "feature_cols = ['Country', 'Year', 'Age Group', 'Gender',\n",
        "                'Vaccine Availability', 'Treatment Type',\n",
        "                'Healthcare Access', 'Population Affected']\n"
      ],
      "metadata": {
        "id": "BjPTXfLZVM9t"
      },
      "execution_count": 14,
      "outputs": []
    },
    {
      "cell_type": "code",
      "source": [
        "gbh_subset_encoded = pd.get_dummies(gbh_subset, columns=['Country', 'Age Group', 'Gender'], drop_first=True)\n"
      ],
      "metadata": {
        "id": "uomWp22CaR_W"
      },
      "execution_count": 15,
      "outputs": []
    },
    {
      "cell_type": "code",
      "source": [
        "X = gbh_subset[feature_cols]\n",
        "y = gbh_subset['Disease Name']"
      ],
      "metadata": {
        "id": "K0DWIsDkaWj9"
      },
      "execution_count": 16,
      "outputs": []
    },
    {
      "cell_type": "code",
      "source": [
        "from sklearn.model_selection import train_test_split\n",
        "\n",
        "X_train, X_test, y_train, y_test = train_test_split(X, y, test_size=0.2, random_state=42)\n"
      ],
      "metadata": {
        "id": "yf5-UTEndqXd"
      },
      "execution_count": 17,
      "outputs": []
    },
    {
      "cell_type": "code",
      "source": [
        "# One-Hot Encode categorical features\n",
        "X_encoded = pd.get_dummies(X, drop_first=True)\n",
        "\n",
        "# Now split your data into train and test sets again (if not done previously)\n",
        "from sklearn.model_selection import train_test_split\n",
        "X_train, X_test, y_train, y_test = train_test_split(X_encoded, y, test_size=0.2, random_state=42)\n",
        "\n",
        "# Initialize and train the model\n",
        "from sklearn.ensemble import RandomForestClassifier\n",
        "from sklearn.metrics import accuracy_score\n",
        "\n",
        "model = RandomForestClassifier(n_estimators=100, random_state=42)\n",
        "model.fit(X_train, y_train)\n",
        "\n",
        "# Make predictions\n",
        "y_pred = model.predict(X_test)\n",
        "\n",
        "# Evaluate the model\n",
        "accuracy = accuracy_score(y_test, y_pred)\n",
        "print(f'Accuracy: {accuracy * 100:.2f}%')\n"
      ],
      "metadata": {
        "colab": {
          "base_uri": "https://localhost:8080/"
        },
        "id": "OAQ32J4sduBb",
        "outputId": "fe7652d1-15b1-450e-ec32-d790ab8d78f4"
      },
      "execution_count": 18,
      "outputs": [
        {
          "output_type": "stream",
          "name": "stdout",
          "text": [
            "Accuracy: 6.67%\n"
          ]
        }
      ]
    },
    {
      "cell_type": "code",
      "source": [
        "print(y.value_counts())\n"
      ],
      "metadata": {
        "colab": {
          "base_uri": "https://localhost:8080/"
        },
        "id": "HgTrFPXJfPYt",
        "outputId": "7100508a-d603-4ce0-93fb-08becd5fd5e9"
      },
      "execution_count": 19,
      "outputs": [
        {
          "output_type": "stream",
          "name": "stdout",
          "text": [
            "Disease Name\n",
            "Diabetes               22\n",
            "Hypertension           21\n",
            "Tuberculosis           21\n",
            "HIV/AIDS               20\n",
            "Rabies                 19\n",
            "Hepatitis              18\n",
            "Parkinson's Disease    17\n",
            "Polio                  16\n",
            "COVID-19               15\n",
            "Asthma                 15\n",
            "Dengue                 15\n",
            "Cancer                 14\n",
            "Leprosy                13\n",
            "Malaria                12\n",
            "Measles                12\n",
            "Cholera                11\n",
            "Alzheimer's Disease    11\n",
            "Zika                   10\n",
            "Influenza              10\n",
            "Ebola                   8\n",
            "Name: count, dtype: int64\n"
          ]
        }
      ]
    },
    {
      "cell_type": "code",
      "source": [
        "from sklearn.ensemble import RandomForestClassifier\n",
        "\n",
        "model = RandomForestClassifier(n_estimators=100, random_state=42, class_weight='balanced')\n",
        "model.fit(X_train, y_train)\n",
        "\n",
        "y_pred = model.predict(X_test)\n",
        "accuracy = accuracy_score(y_test, y_pred)\n",
        "print(f'Accuracy: {accuracy * 100:.2f}%')\n"
      ],
      "metadata": {
        "colab": {
          "base_uri": "https://localhost:8080/"
        },
        "id": "o9s6AAaWiP1k",
        "outputId": "851bc671-e81c-4fed-b04a-4f8d5da8d7ad"
      },
      "execution_count": 20,
      "outputs": [
        {
          "output_type": "stream",
          "name": "stdout",
          "text": [
            "Accuracy: 1.67%\n"
          ]
        }
      ]
    },
    {
      "cell_type": "code",
      "source": [
        "from sklearn.model_selection import GridSearchCV\n",
        "from sklearn.ensemble import RandomForestClassifier\n",
        "\n",
        "# Define the parameter grid\n",
        "param_grid = {\n",
        "    'n_estimators': [50, 100, 200],\n",
        "    'max_depth': [10, 20, 30, None],\n",
        "    'min_samples_split': [2, 5, 10],\n",
        "    'min_samples_leaf': [1, 2, 4],\n",
        "    'max_features': ['auto', 'sqrt', 'log2'],\n",
        "    'class_weight': ['balanced', None]\n",
        "}\n",
        "\n",
        "# Initialize the RandomForestClassifier\n",
        "model = RandomForestClassifier(random_state=42)\n",
        "\n",
        "# Set up GridSearchCV\n",
        "grid_search = GridSearchCV(estimator=model, param_grid=param_grid, cv=5, n_jobs=-1, verbose=2)\n",
        "\n",
        "# Fit the model\n",
        "grid_search.fit(X_train, y_train)\n",
        "\n",
        "# Get the best parameters and model\n",
        "best_params = grid_search.best_params_\n",
        "best_model = grid_search.best_estimator_\n",
        "\n",
        "# Evaluate the best model\n",
        "y_pred = best_model.predict(X_test)\n",
        "accuracy = accuracy_score(y_test, y_pred)\n",
        "print(f'Best Model Accuracy: {accuracy * 100:.2f}%')\n",
        "print(f'Best Hyperparameters: {best_params}')\n"
      ],
      "metadata": {
        "colab": {
          "base_uri": "https://localhost:8080/"
        },
        "id": "SFTNu-jLlJE8",
        "outputId": "360d735d-78d0-415b-d625-fd4edeb82965"
      },
      "execution_count": 21,
      "outputs": [
        {
          "output_type": "stream",
          "name": "stdout",
          "text": [
            "Fitting 5 folds for each of 648 candidates, totalling 3240 fits\n"
          ]
        },
        {
          "output_type": "stream",
          "name": "stderr",
          "text": [
            "/usr/local/lib/python3.11/dist-packages/sklearn/model_selection/_validation.py:528: FitFailedWarning: \n",
            "1080 fits failed out of a total of 3240.\n",
            "The score on these train-test partitions for these parameters will be set to nan.\n",
            "If these failures are not expected, you can try to debug them by setting error_score='raise'.\n",
            "\n",
            "Below are more details about the failures:\n",
            "--------------------------------------------------------------------------------\n",
            "543 fits failed with the following error:\n",
            "Traceback (most recent call last):\n",
            "  File \"/usr/local/lib/python3.11/dist-packages/sklearn/model_selection/_validation.py\", line 866, in _fit_and_score\n",
            "    estimator.fit(X_train, y_train, **fit_params)\n",
            "  File \"/usr/local/lib/python3.11/dist-packages/sklearn/base.py\", line 1382, in wrapper\n",
            "    estimator._validate_params()\n",
            "  File \"/usr/local/lib/python3.11/dist-packages/sklearn/base.py\", line 436, in _validate_params\n",
            "    validate_parameter_constraints(\n",
            "  File \"/usr/local/lib/python3.11/dist-packages/sklearn/utils/_param_validation.py\", line 98, in validate_parameter_constraints\n",
            "    raise InvalidParameterError(\n",
            "sklearn.utils._param_validation.InvalidParameterError: The 'max_features' parameter of RandomForestClassifier must be an int in the range [1, inf), a float in the range (0.0, 1.0], a str among {'log2', 'sqrt'} or None. Got 'auto' instead.\n",
            "\n",
            "--------------------------------------------------------------------------------\n",
            "537 fits failed with the following error:\n",
            "Traceback (most recent call last):\n",
            "  File \"/usr/local/lib/python3.11/dist-packages/sklearn/model_selection/_validation.py\", line 866, in _fit_and_score\n",
            "    estimator.fit(X_train, y_train, **fit_params)\n",
            "  File \"/usr/local/lib/python3.11/dist-packages/sklearn/base.py\", line 1382, in wrapper\n",
            "    estimator._validate_params()\n",
            "  File \"/usr/local/lib/python3.11/dist-packages/sklearn/base.py\", line 436, in _validate_params\n",
            "    validate_parameter_constraints(\n",
            "  File \"/usr/local/lib/python3.11/dist-packages/sklearn/utils/_param_validation.py\", line 98, in validate_parameter_constraints\n",
            "    raise InvalidParameterError(\n",
            "sklearn.utils._param_validation.InvalidParameterError: The 'max_features' parameter of RandomForestClassifier must be an int in the range [1, inf), a float in the range (0.0, 1.0], a str among {'sqrt', 'log2'} or None. Got 'auto' instead.\n",
            "\n",
            "  warnings.warn(some_fits_failed_message, FitFailedWarning)\n",
            "/usr/local/lib/python3.11/dist-packages/sklearn/model_selection/_search.py:1108: UserWarning: One or more of the test scores are non-finite: [       nan        nan        nan        nan        nan        nan\n",
            "        nan        nan        nan        nan        nan        nan\n",
            "        nan        nan        nan        nan        nan        nan\n",
            "        nan        nan        nan        nan        nan        nan\n",
            "        nan        nan        nan 0.05416667 0.05       0.05416667\n",
            " 0.0625     0.05416667 0.05833333 0.05416667 0.05       0.05\n",
            " 0.04583333 0.07916667 0.06666667 0.0625     0.04583333 0.04583333\n",
            " 0.05416667 0.06666667 0.07916667 0.05       0.06666667 0.0625\n",
            " 0.05       0.06666667 0.0625     0.05416667 0.04166667 0.05833333\n",
            " 0.05833333 0.06666667 0.07083333 0.0625     0.07083333 0.0625\n",
            " 0.07916667 0.05833333 0.0625     0.0625     0.05833333 0.05416667\n",
            " 0.05416667 0.05833333 0.04583333 0.075      0.0625     0.0625\n",
            " 0.0625     0.05       0.0625     0.0625     0.05       0.0625\n",
            " 0.05833333 0.05416667 0.0625            nan        nan        nan\n",
            "        nan        nan        nan        nan        nan        nan\n",
            "        nan        nan        nan        nan        nan        nan\n",
            "        nan        nan        nan        nan        nan        nan\n",
            "        nan        nan        nan        nan        nan        nan\n",
            " 0.06666667 0.05       0.06666667 0.05       0.05416667 0.05416667\n",
            " 0.05       0.04166667 0.05       0.05416667 0.06666667 0.05833333\n",
            " 0.0625     0.06666667 0.0625     0.0625     0.07083333 0.0625\n",
            " 0.06666667 0.07083333 0.06666667 0.06666667 0.07083333 0.06666667\n",
            " 0.05       0.03333333 0.04583333 0.06666667 0.07916667 0.0625\n",
            " 0.0625     0.05833333 0.05833333 0.0875     0.07916667 0.06666667\n",
            " 0.05416667 0.05833333 0.07083333 0.07083333 0.06666667 0.05833333\n",
            " 0.06666667 0.0625     0.06666667 0.05833333 0.05       0.0625\n",
            " 0.05833333 0.05       0.0625     0.0625     0.05       0.0625\n",
            "        nan        nan        nan        nan        nan        nan\n",
            "        nan        nan        nan        nan        nan        nan\n",
            "        nan        nan        nan        nan        nan        nan\n",
            "        nan        nan        nan        nan        nan        nan\n",
            "        nan        nan        nan 0.07083333 0.05416667 0.06666667\n",
            " 0.05833333 0.05       0.05       0.05       0.04166667 0.05\n",
            " 0.05416667 0.06666667 0.05833333 0.0625     0.06666667 0.0625\n",
            " 0.0625     0.07083333 0.0625     0.06666667 0.07083333 0.06666667\n",
            " 0.06666667 0.07083333 0.06666667 0.05       0.03333333 0.04583333\n",
            " 0.0625     0.07083333 0.07083333 0.05416667 0.0625     0.05\n",
            " 0.0875     0.07916667 0.06666667 0.05416667 0.05833333 0.07083333\n",
            " 0.075      0.06666667 0.05833333 0.06666667 0.0625     0.06666667\n",
            " 0.05833333 0.05       0.0625     0.05833333 0.05       0.0625\n",
            " 0.0625     0.05       0.0625            nan        nan        nan\n",
            "        nan        nan        nan        nan        nan        nan\n",
            "        nan        nan        nan        nan        nan        nan\n",
            "        nan        nan        nan        nan        nan        nan\n",
            "        nan        nan        nan        nan        nan        nan\n",
            " 0.07083333 0.05416667 0.06666667 0.05833333 0.05       0.05\n",
            " 0.05       0.04166667 0.05       0.05416667 0.06666667 0.05833333\n",
            " 0.0625     0.06666667 0.0625     0.0625     0.07083333 0.0625\n",
            " 0.06666667 0.07083333 0.06666667 0.06666667 0.07083333 0.06666667\n",
            " 0.05       0.03333333 0.04583333 0.0625     0.07083333 0.07083333\n",
            " 0.05416667 0.0625     0.05       0.0875     0.07916667 0.06666667\n",
            " 0.05416667 0.05833333 0.07083333 0.075      0.06666667 0.05833333\n",
            " 0.06666667 0.0625     0.06666667 0.05833333 0.05       0.0625\n",
            " 0.05833333 0.05       0.0625     0.0625     0.05       0.0625\n",
            "        nan        nan        nan        nan        nan        nan\n",
            "        nan        nan        nan        nan        nan        nan\n",
            "        nan        nan        nan        nan        nan        nan\n",
            "        nan        nan        nan        nan        nan        nan\n",
            "        nan        nan        nan 0.0625     0.06666667 0.07083333\n",
            " 0.06666667 0.0875     0.07916667 0.07916667 0.0625     0.075\n",
            " 0.0625     0.06666667 0.07083333 0.05       0.07083333 0.07083333\n",
            " 0.07083333 0.0875     0.07916667 0.0625     0.07916667 0.07916667\n",
            " 0.0625     0.07916667 0.07916667 0.07916667 0.075      0.08333333\n",
            " 0.075      0.06666667 0.07083333 0.07083333 0.07916667 0.07916667\n",
            " 0.0875     0.0875     0.07083333 0.08333333 0.07083333 0.07083333\n",
            " 0.075      0.06666667 0.075      0.08333333 0.05833333 0.06666667\n",
            " 0.09166667 0.07083333 0.05416667 0.09166667 0.07083333 0.05416667\n",
            " 0.09166667 0.05833333 0.06666667        nan        nan        nan\n",
            "        nan        nan        nan        nan        nan        nan\n",
            "        nan        nan        nan        nan        nan        nan\n",
            "        nan        nan        nan        nan        nan        nan\n",
            "        nan        nan        nan        nan        nan        nan\n",
            " 0.0875     0.0875     0.075      0.075      0.06666667 0.07083333\n",
            " 0.0625     0.07083333 0.06666667 0.08333333 0.075      0.07083333\n",
            " 0.07916667 0.06666667 0.0875     0.075      0.07916667 0.06666667\n",
            " 0.07083333 0.0875     0.0875     0.07083333 0.0875     0.0875\n",
            " 0.075      0.07916667 0.0875     0.09166667 0.0875     0.075\n",
            " 0.07916667 0.06666667 0.06666667 0.08333333 0.07916667 0.0875\n",
            " 0.08333333 0.08333333 0.075      0.075      0.07083333 0.08333333\n",
            " 0.09166667 0.07916667 0.06666667 0.08333333 0.06666667 0.05833333\n",
            " 0.08333333 0.06666667 0.05833333 0.0875     0.05416667 0.06666667\n",
            "        nan        nan        nan        nan        nan        nan\n",
            "        nan        nan        nan        nan        nan        nan\n",
            "        nan        nan        nan        nan        nan        nan\n",
            "        nan        nan        nan        nan        nan        nan\n",
            "        nan        nan        nan 0.0875     0.09583333 0.07916667\n",
            " 0.07083333 0.06666667 0.07083333 0.0625     0.07083333 0.06666667\n",
            " 0.08333333 0.075      0.07083333 0.07916667 0.0625     0.0875\n",
            " 0.075      0.07916667 0.06666667 0.07083333 0.0875     0.0875\n",
            " 0.07083333 0.0875     0.0875     0.075      0.07916667 0.0875\n",
            " 0.09583333 0.07916667 0.07083333 0.07916667 0.07083333 0.06666667\n",
            " 0.08333333 0.07916667 0.0875     0.08333333 0.08333333 0.07083333\n",
            " 0.075      0.07083333 0.08333333 0.09166667 0.07916667 0.06666667\n",
            " 0.08333333 0.06666667 0.05833333 0.08333333 0.06666667 0.05833333\n",
            " 0.0875     0.05416667 0.06666667        nan        nan        nan\n",
            "        nan        nan        nan        nan        nan        nan\n",
            "        nan        nan        nan        nan        nan        nan\n",
            "        nan        nan        nan        nan        nan        nan\n",
            "        nan        nan        nan        nan        nan        nan\n",
            " 0.0875     0.09583333 0.07916667 0.07083333 0.06666667 0.07083333\n",
            " 0.0625     0.07083333 0.06666667 0.08333333 0.075      0.07083333\n",
            " 0.07916667 0.0625     0.0875     0.075      0.07916667 0.06666667\n",
            " 0.07083333 0.0875     0.0875     0.07083333 0.0875     0.0875\n",
            " 0.075      0.07916667 0.0875     0.09583333 0.07916667 0.07083333\n",
            " 0.07916667 0.07083333 0.06666667 0.08333333 0.07916667 0.0875\n",
            " 0.08333333 0.08333333 0.07083333 0.075      0.07083333 0.08333333\n",
            " 0.09166667 0.07916667 0.06666667 0.08333333 0.06666667 0.05833333\n",
            " 0.08333333 0.06666667 0.05833333 0.0875     0.05416667 0.06666667]\n",
            "  warnings.warn(\n"
          ]
        },
        {
          "output_type": "stream",
          "name": "stdout",
          "text": [
            "Best Model Accuracy: 6.67%\n",
            "Best Hyperparameters: {'class_weight': None, 'max_depth': 30, 'max_features': 'sqrt', 'min_samples_leaf': 1, 'min_samples_split': 2, 'n_estimators': 100}\n"
          ]
        }
      ]
    },
    {
      "cell_type": "code",
      "source": [
        "from sklearn.preprocessing import LabelEncoder\n",
        "\n",
        "# Initialize the LabelEncoder\n",
        "label_encoder = LabelEncoder()\n",
        "\n",
        "# Encode target variable only\n",
        "y_train_encoded = label_encoder.fit_transform(y_train)\n",
        "y_test_encoded = label_encoder.transform(y_test)\n",
        "\n",
        "# Now, you can use y_train_encoded and y_test_encoded for models that need encoding\n"
      ],
      "metadata": {
        "id": "67yIvD4Xq8Ht"
      },
      "execution_count": 24,
      "outputs": []
    },
    {
      "cell_type": "code",
      "source": [
        "import numpy as np\n",
        "from sklearn.preprocessing import LabelEncoder\n",
        "from xgboost import XGBClassifier\n",
        "from sklearn.metrics import accuracy_score\n",
        "\n",
        "# Initialize the LabelEncoder\n",
        "label_encoder = LabelEncoder()\n",
        "\n",
        "# Encode the target variable (Disease Name)\n",
        "y_train_encoded = label_encoder.fit_transform(y_train)\n",
        "y_test_encoded = label_encoder.transform(y_test)\n",
        "\n",
        "# Calculate scale_pos_weight using numpy\n",
        "class_counts = np.bincount(y_train_encoded)\n",
        "scale_pos_weight = class_counts.max() / class_counts\n",
        "\n",
        "# Initialize XGBoost model with scale_pos_weight\n",
        "model = XGBClassifier(scale_pos_weight=scale_pos_weight, random_state=42)\n",
        "\n",
        "# Train the model\n",
        "model.fit(X_train, y_train_encoded)\n",
        "\n",
        "# Make predictions\n",
        "y_pred_encoded = model.predict(X_test)\n",
        "\n",
        "# Convert the predictions back to the original labels (disease names)\n",
        "y_pred = label_encoder.inverse_transform(y_pred_encoded)\n",
        "\n",
        "# Evaluate the model\n",
        "accuracy = accuracy_score(y_test_encoded, y_pred_encoded)\n",
        "print(f'Accuracy: {accuracy * 100:.2f}%')\n"
      ],
      "metadata": {
        "colab": {
          "base_uri": "https://localhost:8080/"
        },
        "id": "T1JBqOn1naBn",
        "outputId": "9b312895-4e35-42a9-db24-6bd93c567898"
      },
      "execution_count": 26,
      "outputs": [
        {
          "output_type": "stream",
          "name": "stderr",
          "text": [
            "/usr/local/lib/python3.11/dist-packages/xgboost/core.py:158: UserWarning: [17:23:01] WARNING: /workspace/src/learner.cc:740: \n",
            "Parameters: { \"scale_pos_weight\" } are not used.\n",
            "\n",
            "  warnings.warn(smsg, UserWarning)\n"
          ]
        },
        {
          "output_type": "stream",
          "name": "stdout",
          "text": [
            "Accuracy: 1.67%\n"
          ]
        }
      ]
    },
    {
      "cell_type": "code",
      "source": [
        "!pip install --upgrade xgboost\n"
      ],
      "metadata": {
        "colab": {
          "base_uri": "https://localhost:8080/"
        },
        "id": "sLbb5Ir1t3zv",
        "outputId": "78a89baf-c7fc-4783-b328-22fc1155ccdc"
      },
      "execution_count": 28,
      "outputs": [
        {
          "output_type": "stream",
          "name": "stdout",
          "text": [
            "Requirement already satisfied: xgboost in /usr/local/lib/python3.11/dist-packages (2.1.3)\n",
            "Requirement already satisfied: numpy in /usr/local/lib/python3.11/dist-packages (from xgboost) (1.26.4)\n",
            "Requirement already satisfied: nvidia-nccl-cu12 in /usr/local/lib/python3.11/dist-packages (from xgboost) (2.21.5)\n",
            "Requirement already satisfied: scipy in /usr/local/lib/python3.11/dist-packages (from xgboost) (1.13.1)\n"
          ]
        }
      ]
    },
    {
      "cell_type": "code",
      "source": [
        "!pip install --upgrade scikit-learn\n"
      ],
      "metadata": {
        "colab": {
          "base_uri": "https://localhost:8080/"
        },
        "id": "8mkZ7rQPt9of",
        "outputId": "43847f54-6de7-437e-822b-a663d9077066"
      },
      "execution_count": 29,
      "outputs": [
        {
          "output_type": "stream",
          "name": "stdout",
          "text": [
            "Requirement already satisfied: scikit-learn in /usr/local/lib/python3.11/dist-packages (1.6.1)\n",
            "Requirement already satisfied: numpy>=1.19.5 in /usr/local/lib/python3.11/dist-packages (from scikit-learn) (1.26.4)\n",
            "Requirement already satisfied: scipy>=1.6.0 in /usr/local/lib/python3.11/dist-packages (from scikit-learn) (1.13.1)\n",
            "Requirement already satisfied: joblib>=1.2.0 in /usr/local/lib/python3.11/dist-packages (from scikit-learn) (1.4.2)\n",
            "Requirement already satisfied: threadpoolctl>=3.1.0 in /usr/local/lib/python3.11/dist-packages (from scikit-learn) (3.5.0)\n"
          ]
        }
      ]
    },
    {
      "cell_type": "code",
      "source": [
        "from xgboost import XGBClassifier\n",
        "from sklearn.model_selection import RandomizedSearchCV\n",
        "\n",
        "# Initialize XGBClassifier with an objective for multi-class classification\n",
        "model = XGBClassifier(objective='multi:softmax', random_state=42)\n",
        "\n",
        "# Define hyperparameters to search\n",
        "param_dist = {\n",
        "    'n_estimators': [100, 200, 300],\n",
        "    'learning_rate': [0.01, 0.1, 0.2],\n",
        "    'max_depth': [3, 4, 5, 6],\n",
        "    'subsample': [0.6, 0.7, 0.8],\n",
        "    'colsample_bytree': [0.6, 0.7, 0.8]\n",
        "}\n",
        "\n",
        "# Initialize RandomizedSearchCV\n",
        "random_search = RandomizedSearchCV(model, param_dist, n_iter=10, scoring='accuracy', cv=3, random_state=42)\n",
        "\n",
        "# Fit the model\n",
        "random_search.fit(X_train, y_train_encoded)\n",
        "\n",
        "# Get best hyperparameters\n",
        "best_params = random_search.best_params_\n",
        "print(f'Best parameters: {best_params}')\n",
        "\n",
        "# Train the best model\n",
        "best_model = random_search.best_estimator_\n",
        "best_model.fit(X_train, y_train_encoded)\n",
        "\n",
        "# Make predictions\n",
        "y_pred_encoded = best_model.predict(X_test)\n",
        "\n",
        "# Convert predictions back to original labels\n",
        "y_pred = label_encoder.inverse_transform(y_pred_encoded)\n",
        "\n",
        "# Evaluate the model\n",
        "accuracy = accuracy_score(y_test_encoded, y_pred_encoded)\n",
        "print(f'Accuracy after hyperparameter tuning: {accuracy * 100:.2f}%')\n"
      ],
      "metadata": {
        "colab": {
          "base_uri": "https://localhost:8080/",
          "height": 371
        },
        "id": "ezjLW_ZWseA-",
        "outputId": "62bbf7c7-e0e5-43a7-f254-33eb2707ca71"
      },
      "execution_count": 32,
      "outputs": [
        {
          "output_type": "error",
          "ename": "AttributeError",
          "evalue": "'super' object has no attribute '__sklearn_tags__'",
          "traceback": [
            "\u001b[0;31m---------------------------------------------------------------------------\u001b[0m",
            "\u001b[0;31mAttributeError\u001b[0m                            Traceback (most recent call last)",
            "\u001b[0;32m<ipython-input-32-2380a7c811c5>\u001b[0m in \u001b[0;36m<cell line: 0>\u001b[0;34m()\u001b[0m\n\u001b[1;32m     18\u001b[0m \u001b[0;34m\u001b[0m\u001b[0m\n\u001b[1;32m     19\u001b[0m \u001b[0;31m# Fit the model\u001b[0m\u001b[0;34m\u001b[0m\u001b[0;34m\u001b[0m\u001b[0m\n\u001b[0;32m---> 20\u001b[0;31m \u001b[0mrandom_search\u001b[0m\u001b[0;34m.\u001b[0m\u001b[0mfit\u001b[0m\u001b[0;34m(\u001b[0m\u001b[0mX_train\u001b[0m\u001b[0;34m,\u001b[0m \u001b[0my_train_encoded\u001b[0m\u001b[0;34m)\u001b[0m\u001b[0;34m\u001b[0m\u001b[0;34m\u001b[0m\u001b[0m\n\u001b[0m\u001b[1;32m     21\u001b[0m \u001b[0;34m\u001b[0m\u001b[0m\n\u001b[1;32m     22\u001b[0m \u001b[0;31m# Get best hyperparameters\u001b[0m\u001b[0;34m\u001b[0m\u001b[0;34m\u001b[0m\u001b[0m\n",
            "\u001b[0;32m/usr/local/lib/python3.11/dist-packages/sklearn/base.py\u001b[0m in \u001b[0;36mwrapper\u001b[0;34m(estimator, *args, **kwargs)\u001b[0m\n\u001b[1;32m   1387\u001b[0m                 )\n\u001b[1;32m   1388\u001b[0m             ):\n\u001b[0;32m-> 1389\u001b[0;31m                 \u001b[0;32mreturn\u001b[0m \u001b[0mfit_method\u001b[0m\u001b[0;34m(\u001b[0m\u001b[0mestimator\u001b[0m\u001b[0;34m,\u001b[0m \u001b[0;34m*\u001b[0m\u001b[0margs\u001b[0m\u001b[0;34m,\u001b[0m \u001b[0;34m**\u001b[0m\u001b[0mkwargs\u001b[0m\u001b[0;34m)\u001b[0m\u001b[0;34m\u001b[0m\u001b[0;34m\u001b[0m\u001b[0m\n\u001b[0m\u001b[1;32m   1390\u001b[0m \u001b[0;34m\u001b[0m\u001b[0m\n\u001b[1;32m   1391\u001b[0m         \u001b[0;32mreturn\u001b[0m \u001b[0mwrapper\u001b[0m\u001b[0;34m\u001b[0m\u001b[0;34m\u001b[0m\u001b[0m\n",
            "\u001b[0;32m/usr/local/lib/python3.11/dist-packages/sklearn/model_selection/_search.py\u001b[0m in \u001b[0;36mfit\u001b[0;34m(self, X, y, **params)\u001b[0m\n\u001b[1;32m    931\u001b[0m         \u001b[0mrouted_params\u001b[0m \u001b[0;34m=\u001b[0m \u001b[0mself\u001b[0m\u001b[0;34m.\u001b[0m\u001b[0m_get_routed_params_for_fit\u001b[0m\u001b[0;34m(\u001b[0m\u001b[0mparams\u001b[0m\u001b[0;34m)\u001b[0m\u001b[0;34m\u001b[0m\u001b[0;34m\u001b[0m\u001b[0m\n\u001b[1;32m    932\u001b[0m \u001b[0;34m\u001b[0m\u001b[0m\n\u001b[0;32m--> 933\u001b[0;31m         \u001b[0mcv_orig\u001b[0m \u001b[0;34m=\u001b[0m \u001b[0mcheck_cv\u001b[0m\u001b[0;34m(\u001b[0m\u001b[0mself\u001b[0m\u001b[0;34m.\u001b[0m\u001b[0mcv\u001b[0m\u001b[0;34m,\u001b[0m \u001b[0my\u001b[0m\u001b[0;34m,\u001b[0m \u001b[0mclassifier\u001b[0m\u001b[0;34m=\u001b[0m\u001b[0mis_classifier\u001b[0m\u001b[0;34m(\u001b[0m\u001b[0mestimator\u001b[0m\u001b[0;34m)\u001b[0m\u001b[0;34m)\u001b[0m\u001b[0;34m\u001b[0m\u001b[0;34m\u001b[0m\u001b[0m\n\u001b[0m\u001b[1;32m    934\u001b[0m         \u001b[0mn_splits\u001b[0m \u001b[0;34m=\u001b[0m \u001b[0mcv_orig\u001b[0m\u001b[0;34m.\u001b[0m\u001b[0mget_n_splits\u001b[0m\u001b[0;34m(\u001b[0m\u001b[0mX\u001b[0m\u001b[0;34m,\u001b[0m \u001b[0my\u001b[0m\u001b[0;34m,\u001b[0m \u001b[0;34m**\u001b[0m\u001b[0mrouted_params\u001b[0m\u001b[0;34m.\u001b[0m\u001b[0msplitter\u001b[0m\u001b[0;34m.\u001b[0m\u001b[0msplit\u001b[0m\u001b[0;34m)\u001b[0m\u001b[0;34m\u001b[0m\u001b[0;34m\u001b[0m\u001b[0m\n\u001b[1;32m    935\u001b[0m \u001b[0;34m\u001b[0m\u001b[0m\n",
            "\u001b[0;32m/usr/local/lib/python3.11/dist-packages/sklearn/base.py\u001b[0m in \u001b[0;36mis_classifier\u001b[0;34m(estimator)\u001b[0m\n\u001b[1;32m   1235\u001b[0m         \u001b[0;32mreturn\u001b[0m \u001b[0mgetattr\u001b[0m\u001b[0;34m(\u001b[0m\u001b[0mestimator\u001b[0m\u001b[0;34m,\u001b[0m \u001b[0;34m\"_estimator_type\"\u001b[0m\u001b[0;34m,\u001b[0m \u001b[0;32mNone\u001b[0m\u001b[0;34m)\u001b[0m \u001b[0;34m==\u001b[0m \u001b[0;34m\"classifier\"\u001b[0m\u001b[0;34m\u001b[0m\u001b[0;34m\u001b[0m\u001b[0m\n\u001b[1;32m   1236\u001b[0m \u001b[0;34m\u001b[0m\u001b[0m\n\u001b[0;32m-> 1237\u001b[0;31m     \u001b[0;32mreturn\u001b[0m \u001b[0mget_tags\u001b[0m\u001b[0;34m(\u001b[0m\u001b[0mestimator\u001b[0m\u001b[0;34m)\u001b[0m\u001b[0;34m.\u001b[0m\u001b[0mestimator_type\u001b[0m \u001b[0;34m==\u001b[0m \u001b[0;34m\"classifier\"\u001b[0m\u001b[0;34m\u001b[0m\u001b[0;34m\u001b[0m\u001b[0m\n\u001b[0m\u001b[1;32m   1238\u001b[0m \u001b[0;34m\u001b[0m\u001b[0m\n\u001b[1;32m   1239\u001b[0m \u001b[0;34m\u001b[0m\u001b[0m\n",
            "\u001b[0;32m/usr/local/lib/python3.11/dist-packages/sklearn/utils/_tags.py\u001b[0m in \u001b[0;36mget_tags\u001b[0;34m(estimator)\u001b[0m\n\u001b[1;32m    428\u001b[0m         \u001b[0;32mfor\u001b[0m \u001b[0mklass\u001b[0m \u001b[0;32min\u001b[0m \u001b[0mreversed\u001b[0m\u001b[0;34m(\u001b[0m\u001b[0mtype\u001b[0m\u001b[0;34m(\u001b[0m\u001b[0mestimator\u001b[0m\u001b[0;34m)\u001b[0m\u001b[0;34m.\u001b[0m\u001b[0mmro\u001b[0m\u001b[0;34m(\u001b[0m\u001b[0;34m)\u001b[0m\u001b[0;34m)\u001b[0m\u001b[0;34m:\u001b[0m\u001b[0;34m\u001b[0m\u001b[0;34m\u001b[0m\u001b[0m\n\u001b[1;32m    429\u001b[0m             \u001b[0;32mif\u001b[0m \u001b[0;34m\"__sklearn_tags__\"\u001b[0m \u001b[0;32min\u001b[0m \u001b[0mvars\u001b[0m\u001b[0;34m(\u001b[0m\u001b[0mklass\u001b[0m\u001b[0;34m)\u001b[0m\u001b[0;34m:\u001b[0m\u001b[0;34m\u001b[0m\u001b[0;34m\u001b[0m\u001b[0m\n\u001b[0;32m--> 430\u001b[0;31m                 \u001b[0msklearn_tags_provider\u001b[0m\u001b[0;34m[\u001b[0m\u001b[0mklass\u001b[0m\u001b[0;34m]\u001b[0m \u001b[0;34m=\u001b[0m \u001b[0mklass\u001b[0m\u001b[0;34m.\u001b[0m\u001b[0m__sklearn_tags__\u001b[0m\u001b[0;34m(\u001b[0m\u001b[0mestimator\u001b[0m\u001b[0;34m)\u001b[0m  \u001b[0;31m# type: ignore[attr-defined]\u001b[0m\u001b[0;34m\u001b[0m\u001b[0;34m\u001b[0m\u001b[0m\n\u001b[0m\u001b[1;32m    431\u001b[0m                 \u001b[0mclass_order\u001b[0m\u001b[0;34m.\u001b[0m\u001b[0mappend\u001b[0m\u001b[0;34m(\u001b[0m\u001b[0mklass\u001b[0m\u001b[0;34m)\u001b[0m\u001b[0;34m\u001b[0m\u001b[0;34m\u001b[0m\u001b[0m\n\u001b[1;32m    432\u001b[0m             \u001b[0;32melif\u001b[0m \u001b[0;34m\"_more_tags\"\u001b[0m \u001b[0;32min\u001b[0m \u001b[0mvars\u001b[0m\u001b[0;34m(\u001b[0m\u001b[0mklass\u001b[0m\u001b[0;34m)\u001b[0m\u001b[0;34m:\u001b[0m\u001b[0;34m\u001b[0m\u001b[0;34m\u001b[0m\u001b[0m\n",
            "\u001b[0;32m/usr/local/lib/python3.11/dist-packages/sklearn/base.py\u001b[0m in \u001b[0;36m__sklearn_tags__\u001b[0;34m(self)\u001b[0m\n\u001b[1;32m    538\u001b[0m \u001b[0;34m\u001b[0m\u001b[0m\n\u001b[1;32m    539\u001b[0m     \u001b[0;32mdef\u001b[0m \u001b[0m__sklearn_tags__\u001b[0m\u001b[0;34m(\u001b[0m\u001b[0mself\u001b[0m\u001b[0;34m)\u001b[0m\u001b[0;34m:\u001b[0m\u001b[0;34m\u001b[0m\u001b[0;34m\u001b[0m\u001b[0m\n\u001b[0;32m--> 540\u001b[0;31m         \u001b[0mtags\u001b[0m \u001b[0;34m=\u001b[0m \u001b[0msuper\u001b[0m\u001b[0;34m(\u001b[0m\u001b[0;34m)\u001b[0m\u001b[0;34m.\u001b[0m\u001b[0m__sklearn_tags__\u001b[0m\u001b[0;34m(\u001b[0m\u001b[0;34m)\u001b[0m\u001b[0;34m\u001b[0m\u001b[0;34m\u001b[0m\u001b[0m\n\u001b[0m\u001b[1;32m    541\u001b[0m         \u001b[0mtags\u001b[0m\u001b[0;34m.\u001b[0m\u001b[0mestimator_type\u001b[0m \u001b[0;34m=\u001b[0m \u001b[0;34m\"classifier\"\u001b[0m\u001b[0;34m\u001b[0m\u001b[0;34m\u001b[0m\u001b[0m\n\u001b[1;32m    542\u001b[0m         \u001b[0mtags\u001b[0m\u001b[0;34m.\u001b[0m\u001b[0mclassifier_tags\u001b[0m \u001b[0;34m=\u001b[0m \u001b[0mClassifierTags\u001b[0m\u001b[0;34m(\u001b[0m\u001b[0;34m)\u001b[0m\u001b[0;34m\u001b[0m\u001b[0;34m\u001b[0m\u001b[0m\n",
            "\u001b[0;31mAttributeError\u001b[0m: 'super' object has no attribute '__sklearn_tags__'"
          ]
        }
      ]
    },
    {
      "cell_type": "code",
      "source": [
        "from xgboost import XGBClassifier\n",
        "from sklearn.metrics import accuracy_score\n",
        "\n",
        "# Define the list of hyperparameters to try\n",
        "n_estimators_list = [100, 200, 300]\n",
        "learning_rate_list = [0.01, 0.1, 0.2]\n",
        "max_depth_list = [3, 4, 5, 6]\n",
        "\n",
        "# Initialize the best model\n",
        "best_accuracy = 0\n",
        "best_model = None\n",
        "\n",
        "# Iterate over combinations of hyperparameters\n",
        "for n_estimators in n_estimators_list:\n",
        "    for learning_rate in learning_rate_list:\n",
        "        for max_depth in max_depth_list:\n",
        "            model = XGBClassifier(n_estimators=n_estimators,\n",
        "                                  learning_rate=learning_rate,\n",
        "                                  max_depth=max_depth,\n",
        "                                  objective='multi:softmax',\n",
        "                                  random_state=42)\n",
        "\n",
        "            # Train the model\n",
        "            model.fit(X_train, y_train_encoded)\n",
        "\n",
        "            # Make predictions\n",
        "            y_pred_encoded = model.predict(X_test)\n",
        "\n",
        "            # Evaluate the model\n",
        "            accuracy = accuracy_score(y_test_encoded, y_pred_encoded)\n",
        "            print(f'Accuracy with n_estimators={n_estimators}, learning_rate={learning_rate}, max_depth={max_depth}: {accuracy * 100:.2f}%')\n",
        "\n",
        "            # Update the best model\n",
        "            if accuracy > best_accuracy:\n",
        "                best_accuracy = accuracy\n",
        "                best_model = model\n",
        "\n",
        "# Output the best model and its accuracy\n",
        "print(f'Best accuracy: {best_accuracy * 100:.2f}%')\n"
      ],
      "metadata": {
        "colab": {
          "base_uri": "https://localhost:8080/"
        },
        "id": "iryQR41Jui64",
        "outputId": "33ea57c9-976e-4e38-e26f-2a70cee55a7e"
      },
      "execution_count": 33,
      "outputs": [
        {
          "output_type": "stream",
          "name": "stdout",
          "text": [
            "Accuracy with n_estimators=100, learning_rate=0.01, max_depth=3: 5.00%\n",
            "Accuracy with n_estimators=100, learning_rate=0.01, max_depth=4: 5.00%\n",
            "Accuracy with n_estimators=100, learning_rate=0.01, max_depth=5: 5.00%\n",
            "Accuracy with n_estimators=100, learning_rate=0.01, max_depth=6: 5.00%\n",
            "Accuracy with n_estimators=100, learning_rate=0.1, max_depth=3: 3.33%\n",
            "Accuracy with n_estimators=100, learning_rate=0.1, max_depth=4: 3.33%\n",
            "Accuracy with n_estimators=100, learning_rate=0.1, max_depth=5: 1.67%\n",
            "Accuracy with n_estimators=100, learning_rate=0.1, max_depth=6: 1.67%\n",
            "Accuracy with n_estimators=100, learning_rate=0.2, max_depth=3: 3.33%\n",
            "Accuracy with n_estimators=100, learning_rate=0.2, max_depth=4: 3.33%\n",
            "Accuracy with n_estimators=100, learning_rate=0.2, max_depth=5: 1.67%\n",
            "Accuracy with n_estimators=100, learning_rate=0.2, max_depth=6: 1.67%\n",
            "Accuracy with n_estimators=200, learning_rate=0.01, max_depth=3: 5.00%\n",
            "Accuracy with n_estimators=200, learning_rate=0.01, max_depth=4: 3.33%\n",
            "Accuracy with n_estimators=200, learning_rate=0.01, max_depth=5: 3.33%\n",
            "Accuracy with n_estimators=200, learning_rate=0.01, max_depth=6: 1.67%\n",
            "Accuracy with n_estimators=200, learning_rate=0.1, max_depth=3: 3.33%\n",
            "Accuracy with n_estimators=200, learning_rate=0.1, max_depth=4: 3.33%\n",
            "Accuracy with n_estimators=200, learning_rate=0.1, max_depth=5: 3.33%\n",
            "Accuracy with n_estimators=200, learning_rate=0.1, max_depth=6: 1.67%\n",
            "Accuracy with n_estimators=200, learning_rate=0.2, max_depth=3: 1.67%\n",
            "Accuracy with n_estimators=200, learning_rate=0.2, max_depth=4: 5.00%\n",
            "Accuracy with n_estimators=200, learning_rate=0.2, max_depth=5: 1.67%\n",
            "Accuracy with n_estimators=200, learning_rate=0.2, max_depth=6: 1.67%\n",
            "Accuracy with n_estimators=300, learning_rate=0.01, max_depth=3: 6.67%\n",
            "Accuracy with n_estimators=300, learning_rate=0.01, max_depth=4: 1.67%\n",
            "Accuracy with n_estimators=300, learning_rate=0.01, max_depth=5: 1.67%\n",
            "Accuracy with n_estimators=300, learning_rate=0.01, max_depth=6: 1.67%\n",
            "Accuracy with n_estimators=300, learning_rate=0.1, max_depth=3: 1.67%\n",
            "Accuracy with n_estimators=300, learning_rate=0.1, max_depth=4: 3.33%\n",
            "Accuracy with n_estimators=300, learning_rate=0.1, max_depth=5: 3.33%\n",
            "Accuracy with n_estimators=300, learning_rate=0.1, max_depth=6: 1.67%\n",
            "Accuracy with n_estimators=300, learning_rate=0.2, max_depth=3: 5.00%\n",
            "Accuracy with n_estimators=300, learning_rate=0.2, max_depth=4: 5.00%\n",
            "Accuracy with n_estimators=300, learning_rate=0.2, max_depth=5: 1.67%\n",
            "Accuracy with n_estimators=300, learning_rate=0.2, max_depth=6: 1.67%\n",
            "Best accuracy: 6.67%\n"
          ]
        }
      ]
    },
    {
      "cell_type": "code",
      "source": [
        "!pip install tensorflow\n"
      ],
      "metadata": {
        "colab": {
          "base_uri": "https://localhost:8080/"
        },
        "id": "QgMKg0UzvqjV",
        "outputId": "f07aedaf-2359-4cea-f04b-8459fd6a9c23"
      },
      "execution_count": 34,
      "outputs": [
        {
          "output_type": "stream",
          "name": "stdout",
          "text": [
            "Requirement already satisfied: tensorflow in /usr/local/lib/python3.11/dist-packages (2.18.0)\n",
            "Requirement already satisfied: absl-py>=1.0.0 in /usr/local/lib/python3.11/dist-packages (from tensorflow) (1.4.0)\n",
            "Requirement already satisfied: astunparse>=1.6.0 in /usr/local/lib/python3.11/dist-packages (from tensorflow) (1.6.3)\n",
            "Requirement already satisfied: flatbuffers>=24.3.25 in /usr/local/lib/python3.11/dist-packages (from tensorflow) (25.1.24)\n",
            "Requirement already satisfied: gast!=0.5.0,!=0.5.1,!=0.5.2,>=0.2.1 in /usr/local/lib/python3.11/dist-packages (from tensorflow) (0.6.0)\n",
            "Requirement already satisfied: google-pasta>=0.1.1 in /usr/local/lib/python3.11/dist-packages (from tensorflow) (0.2.0)\n",
            "Requirement already satisfied: libclang>=13.0.0 in /usr/local/lib/python3.11/dist-packages (from tensorflow) (18.1.1)\n",
            "Requirement already satisfied: opt-einsum>=2.3.2 in /usr/local/lib/python3.11/dist-packages (from tensorflow) (3.4.0)\n",
            "Requirement already satisfied: packaging in /usr/local/lib/python3.11/dist-packages (from tensorflow) (24.2)\n",
            "Requirement already satisfied: protobuf!=4.21.0,!=4.21.1,!=4.21.2,!=4.21.3,!=4.21.4,!=4.21.5,<6.0.0dev,>=3.20.3 in /usr/local/lib/python3.11/dist-packages (from tensorflow) (4.25.6)\n",
            "Requirement already satisfied: requests<3,>=2.21.0 in /usr/local/lib/python3.11/dist-packages (from tensorflow) (2.32.3)\n",
            "Requirement already satisfied: setuptools in /usr/local/lib/python3.11/dist-packages (from tensorflow) (75.1.0)\n",
            "Requirement already satisfied: six>=1.12.0 in /usr/local/lib/python3.11/dist-packages (from tensorflow) (1.17.0)\n",
            "Requirement already satisfied: termcolor>=1.1.0 in /usr/local/lib/python3.11/dist-packages (from tensorflow) (2.5.0)\n",
            "Requirement already satisfied: typing-extensions>=3.6.6 in /usr/local/lib/python3.11/dist-packages (from tensorflow) (4.12.2)\n",
            "Requirement already satisfied: wrapt>=1.11.0 in /usr/local/lib/python3.11/dist-packages (from tensorflow) (1.17.2)\n",
            "Requirement already satisfied: grpcio<2.0,>=1.24.3 in /usr/local/lib/python3.11/dist-packages (from tensorflow) (1.70.0)\n",
            "Requirement already satisfied: tensorboard<2.19,>=2.18 in /usr/local/lib/python3.11/dist-packages (from tensorflow) (2.18.0)\n",
            "Requirement already satisfied: keras>=3.5.0 in /usr/local/lib/python3.11/dist-packages (from tensorflow) (3.8.0)\n",
            "Requirement already satisfied: numpy<2.1.0,>=1.26.0 in /usr/local/lib/python3.11/dist-packages (from tensorflow) (1.26.4)\n",
            "Requirement already satisfied: h5py>=3.11.0 in /usr/local/lib/python3.11/dist-packages (from tensorflow) (3.12.1)\n",
            "Requirement already satisfied: ml-dtypes<0.5.0,>=0.4.0 in /usr/local/lib/python3.11/dist-packages (from tensorflow) (0.4.1)\n",
            "Requirement already satisfied: tensorflow-io-gcs-filesystem>=0.23.1 in /usr/local/lib/python3.11/dist-packages (from tensorflow) (0.37.1)\n",
            "Requirement already satisfied: wheel<1.0,>=0.23.0 in /usr/local/lib/python3.11/dist-packages (from astunparse>=1.6.0->tensorflow) (0.45.1)\n",
            "Requirement already satisfied: rich in /usr/local/lib/python3.11/dist-packages (from keras>=3.5.0->tensorflow) (13.9.4)\n",
            "Requirement already satisfied: namex in /usr/local/lib/python3.11/dist-packages (from keras>=3.5.0->tensorflow) (0.0.8)\n",
            "Requirement already satisfied: optree in /usr/local/lib/python3.11/dist-packages (from keras>=3.5.0->tensorflow) (0.14.0)\n",
            "Requirement already satisfied: charset-normalizer<4,>=2 in /usr/local/lib/python3.11/dist-packages (from requests<3,>=2.21.0->tensorflow) (3.4.1)\n",
            "Requirement already satisfied: idna<4,>=2.5 in /usr/local/lib/python3.11/dist-packages (from requests<3,>=2.21.0->tensorflow) (3.10)\n",
            "Requirement already satisfied: urllib3<3,>=1.21.1 in /usr/local/lib/python3.11/dist-packages (from requests<3,>=2.21.0->tensorflow) (2.3.0)\n",
            "Requirement already satisfied: certifi>=2017.4.17 in /usr/local/lib/python3.11/dist-packages (from requests<3,>=2.21.0->tensorflow) (2024.12.14)\n",
            "Requirement already satisfied: markdown>=2.6.8 in /usr/local/lib/python3.11/dist-packages (from tensorboard<2.19,>=2.18->tensorflow) (3.7)\n",
            "Requirement already satisfied: tensorboard-data-server<0.8.0,>=0.7.0 in /usr/local/lib/python3.11/dist-packages (from tensorboard<2.19,>=2.18->tensorflow) (0.7.2)\n",
            "Requirement already satisfied: werkzeug>=1.0.1 in /usr/local/lib/python3.11/dist-packages (from tensorboard<2.19,>=2.18->tensorflow) (3.1.3)\n",
            "Requirement already satisfied: MarkupSafe>=2.1.1 in /usr/local/lib/python3.11/dist-packages (from werkzeug>=1.0.1->tensorboard<2.19,>=2.18->tensorflow) (3.0.2)\n",
            "Requirement already satisfied: markdown-it-py>=2.2.0 in /usr/local/lib/python3.11/dist-packages (from rich->keras>=3.5.0->tensorflow) (3.0.0)\n",
            "Requirement already satisfied: pygments<3.0.0,>=2.13.0 in /usr/local/lib/python3.11/dist-packages (from rich->keras>=3.5.0->tensorflow) (2.18.0)\n",
            "Requirement already satisfied: mdurl~=0.1 in /usr/local/lib/python3.11/dist-packages (from markdown-it-py>=2.2.0->rich->keras>=3.5.0->tensorflow) (0.1.2)\n"
          ]
        }
      ]
    },
    {
      "cell_type": "code",
      "source": [
        "import tensorflow as tf\n",
        "from tensorflow.keras.models import Sequential\n",
        "from tensorflow.keras.layers import Dense\n",
        "from tensorflow.keras.optimizers import Adam\n",
        "from sklearn.preprocessing import LabelEncoder\n",
        "from sklearn.metrics import accuracy_score\n",
        "\n",
        "# Initialize LabelEncoder for target variable\n",
        "label_encoder = LabelEncoder()\n",
        "\n",
        "# Encode the target variable (y)\n",
        "y_train_encoded = label_encoder.fit_transform(y_train)\n",
        "y_test_encoded = label_encoder.transform(y_test)\n",
        "\n",
        "# Build a neural network model\n",
        "model = Sequential([\n",
        "    Dense(128, input_dim=X_train.shape[1], activation='relu'),  # Input layer\n",
        "    Dense(64, activation='relu'),  # Hidden layer\n",
        "    Dense(32, activation='relu'),  # Hidden layer\n",
        "    Dense(len(label_encoder.classes_), activation='softmax')  # Output layer for multi-class\n",
        "])\n",
        "\n",
        "# Compile the model\n",
        "model.compile(optimizer=Adam(), loss='sparse_categorical_crossentropy', metrics=['accuracy'])\n",
        "\n",
        "# Train the model\n",
        "model.fit(X_train, y_train_encoded, epochs=10, batch_size=32, validation_data=(X_test, y_test_encoded))\n",
        "\n",
        "# Make predictions\n",
        "y_pred_encoded = model.predict(X_test)\n",
        "y_pred = label_encoder.inverse_transform(y_pred_encoded.argmax(axis=1))\n",
        "\n",
        "# Evaluate the model\n",
        "accuracy = accuracy_score(y_test_encoded, y_pred_encoded.argmax(axis=1))\n",
        "print(f'Accuracy: {accuracy * 100:.2f}%')\n"
      ],
      "metadata": {
        "colab": {
          "base_uri": "https://localhost:8080/"
        },
        "id": "IC4Ss6LsvtT-",
        "outputId": "68ad9f41-2ac7-4414-db99-ae2ccbf3ecd9"
      },
      "execution_count": 35,
      "outputs": [
        {
          "output_type": "stream",
          "name": "stderr",
          "text": [
            "/usr/local/lib/python3.11/dist-packages/keras/src/layers/core/dense.py:87: UserWarning: Do not pass an `input_shape`/`input_dim` argument to a layer. When using Sequential models, prefer using an `Input(shape)` object as the first layer in the model instead.\n",
            "  super().__init__(activity_regularizer=activity_regularizer, **kwargs)\n"
          ]
        },
        {
          "output_type": "stream",
          "name": "stdout",
          "text": [
            "Epoch 1/10\n",
            "\u001b[1m8/8\u001b[0m \u001b[32m━━━━━━━━━━━━━━━━━━━━\u001b[0m\u001b[37m\u001b[0m \u001b[1m8s\u001b[0m 543ms/step - accuracy: 0.0624 - loss: 53954.2227 - val_accuracy: 0.1000 - val_loss: 29797.9805\n",
            "Epoch 2/10\n",
            "\u001b[1m8/8\u001b[0m \u001b[32m━━━━━━━━━━━━━━━━━━━━\u001b[0m\u001b[37m\u001b[0m \u001b[1m0s\u001b[0m 13ms/step - accuracy: 0.0514 - loss: 24738.3281 - val_accuracy: 0.0000e+00 - val_loss: 21263.2129\n",
            "Epoch 3/10\n",
            "\u001b[1m8/8\u001b[0m \u001b[32m━━━━━━━━━━━━━━━━━━━━\u001b[0m\u001b[37m\u001b[0m \u001b[1m0s\u001b[0m 14ms/step - accuracy: 0.0648 - loss: 15774.6123 - val_accuracy: 0.0500 - val_loss: 15880.1504\n",
            "Epoch 4/10\n",
            "\u001b[1m8/8\u001b[0m \u001b[32m━━━━━━━━━━━━━━━━━━━━\u001b[0m\u001b[37m\u001b[0m \u001b[1m0s\u001b[0m 12ms/step - accuracy: 0.0761 - loss: 12699.1445 - val_accuracy: 0.0500 - val_loss: 10731.0527\n",
            "Epoch 5/10\n",
            "\u001b[1m8/8\u001b[0m \u001b[32m━━━━━━━━━━━━━━━━━━━━\u001b[0m\u001b[37m\u001b[0m \u001b[1m0s\u001b[0m 11ms/step - accuracy: 0.0646 - loss: 9785.5068 - val_accuracy: 0.0333 - val_loss: 7370.2554\n",
            "Epoch 6/10\n",
            "\u001b[1m8/8\u001b[0m \u001b[32m━━━━━━━━━━━━━━━━━━━━\u001b[0m\u001b[37m\u001b[0m \u001b[1m0s\u001b[0m 12ms/step - accuracy: 0.0712 - loss: 7105.1816 - val_accuracy: 0.0333 - val_loss: 5832.2285\n",
            "Epoch 7/10\n",
            "\u001b[1m8/8\u001b[0m \u001b[32m━━━━━━━━━━━━━━━━━━━━\u001b[0m\u001b[37m\u001b[0m \u001b[1m0s\u001b[0m 12ms/step - accuracy: 0.0792 - loss: 4166.8818 - val_accuracy: 0.0167 - val_loss: 5514.9009\n",
            "Epoch 8/10\n",
            "\u001b[1m8/8\u001b[0m \u001b[32m━━━━━━━━━━━━━━━━━━━━\u001b[0m\u001b[37m\u001b[0m \u001b[1m0s\u001b[0m 14ms/step - accuracy: 0.0557 - loss: 3661.6755 - val_accuracy: 0.0667 - val_loss: 3995.4390\n",
            "Epoch 9/10\n",
            "\u001b[1m8/8\u001b[0m \u001b[32m━━━━━━━━━━━━━━━━━━━━\u001b[0m\u001b[37m\u001b[0m \u001b[1m0s\u001b[0m 12ms/step - accuracy: 0.0389 - loss: 4057.1843 - val_accuracy: 0.0500 - val_loss: 4126.5640\n",
            "Epoch 10/10\n",
            "\u001b[1m8/8\u001b[0m \u001b[32m━━━━━━━━━━━━━━━━━━━━\u001b[0m\u001b[37m\u001b[0m \u001b[1m0s\u001b[0m 11ms/step - accuracy: 0.0471 - loss: 3373.0996 - val_accuracy: 0.0500 - val_loss: 2975.9600\n",
            "\u001b[1m2/2\u001b[0m \u001b[32m━━━━━━━━━━━━━━━━━━━━\u001b[0m\u001b[37m\u001b[0m \u001b[1m1s\u001b[0m 432ms/step\n",
            "Accuracy: 5.00%\n"
          ]
        }
      ]
    }
  ]
}